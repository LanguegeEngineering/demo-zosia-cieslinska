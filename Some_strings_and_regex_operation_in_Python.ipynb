{
  "nbformat": 4,
  "nbformat_minor": 0,
  "metadata": {
    "colab": {
      "name": "Some strings and regex operation in Python.ipynb",
      "provenance": []
    },
    "kernelspec": {
      "name": "python3",
      "display_name": "Python 3"
    }
  },
  "cells": [
    {
      "cell_type": "markdown",
      "metadata": {
        "id": "Nn885eRyu7ND",
        "colab_type": "text"
      },
      "source": [
        "### Easy string manipulation"
      ]
    },
    {
      "cell_type": "code",
      "metadata": {
        "id": "7CPBUMfm7Ljn",
        "colab_type": "code",
        "colab": {}
      },
      "source": [
        "x = 'a string'\n",
        "y = \"a string\"\n",
        "if x == y:\n",
        "    print(\"they are the same\")"
      ],
      "execution_count": 0,
      "outputs": []
    },
    {
      "cell_type": "code",
      "metadata": {
        "id": "Ani3HhQk7LkF",
        "colab_type": "code",
        "colab": {}
      },
      "source": [
        "fox = \"tHe qUICk bROWn fOx.\""
      ],
      "execution_count": 0,
      "outputs": []
    },
    {
      "cell_type": "markdown",
      "metadata": {
        "id": "Lr1xNTks7LkN",
        "colab_type": "text"
      },
      "source": [
        "To convert the entire string into upper-case or lower-case, you can use the ``upper()`` or ``lower()`` methods respectively:"
      ]
    },
    {
      "cell_type": "code",
      "metadata": {
        "id": "hLEjP_-r7LkP",
        "colab_type": "code",
        "colab": {}
      },
      "source": [
        "fox.upper()"
      ],
      "execution_count": 0,
      "outputs": []
    },
    {
      "cell_type": "code",
      "metadata": {
        "id": "J_sWSEtc7LkV",
        "colab_type": "code",
        "colab": {}
      },
      "source": [
        "fox.lower()"
      ],
      "execution_count": 0,
      "outputs": []
    },
    {
      "cell_type": "markdown",
      "metadata": {
        "id": "gDJiQgTK7LkZ",
        "colab_type": "text"
      },
      "source": [
        "A common formatting need is to capitalize just the first letter of each word, or perhaps the first letter of each sentence.\n",
        "This can be done with the ``title()`` and ``capitalize()`` methods:"
      ]
    },
    {
      "cell_type": "code",
      "metadata": {
        "id": "-VFGL3Hr7Lka",
        "colab_type": "code",
        "colab": {}
      },
      "source": [
        "fox.title()"
      ],
      "execution_count": 0,
      "outputs": []
    },
    {
      "cell_type": "code",
      "metadata": {
        "id": "cV3ghJce7Lkr",
        "colab_type": "code",
        "colab": {}
      },
      "source": [
        "fox.capitalize()"
      ],
      "execution_count": 0,
      "outputs": []
    },
    {
      "cell_type": "markdown",
      "metadata": {
        "id": "2CjcAH_47Lkw",
        "colab_type": "text"
      },
      "source": [
        "The cases can be swapped using the ``swapcase()`` method:"
      ]
    },
    {
      "cell_type": "code",
      "metadata": {
        "id": "9VqNWnnG7Lkx",
        "colab_type": "code",
        "colab": {}
      },
      "source": [
        "fox.swapcase()"
      ],
      "execution_count": 0,
      "outputs": []
    },
    {
      "cell_type": "code",
      "metadata": {
        "id": "VXnRg_RV7Lk8",
        "colab_type": "code",
        "colab": {}
      },
      "source": [
        "line = '         this is the content         '\n",
        "line.strip()"
      ],
      "execution_count": 0,
      "outputs": []
    },
    {
      "cell_type": "markdown",
      "metadata": {
        "id": "JGI2dfcr7LlA",
        "colab_type": "text"
      },
      "source": [
        "To remove just space to the right or left, use ``rstrip()`` or ``lstrip()`` respectively:"
      ]
    },
    {
      "cell_type": "code",
      "metadata": {
        "id": "wNtxgkpd7LlC",
        "colab_type": "code",
        "colab": {}
      },
      "source": [
        "line.rstrip()"
      ],
      "execution_count": 0,
      "outputs": []
    },
    {
      "cell_type": "code",
      "metadata": {
        "id": "mqAp9fhT7LlH",
        "colab_type": "code",
        "colab": {}
      },
      "source": [
        "line.lstrip()"
      ],
      "execution_count": 0,
      "outputs": []
    },
    {
      "cell_type": "markdown",
      "metadata": {
        "id": "0Y1XeOHR7LlK",
        "colab_type": "text"
      },
      "source": [
        "To remove characters other than spaces, you can pass the desired character to the ``strip()`` method:"
      ]
    },
    {
      "cell_type": "code",
      "metadata": {
        "id": "4ZoSwbiO7LlL",
        "colab_type": "code",
        "colab": {}
      },
      "source": [
        "num = \"000000000000435\"\n",
        "num.strip('0')"
      ],
      "execution_count": 0,
      "outputs": []
    },
    {
      "cell_type": "code",
      "metadata": {
        "id": "fDyZR0R97LlX",
        "colab_type": "code",
        "colab": {}
      },
      "source": [
        "line = 'the quick brown fox jumped over a lazy dog'\n",
        "line.find('fox')"
      ],
      "execution_count": 0,
      "outputs": []
    },
    {
      "cell_type": "code",
      "metadata": {
        "id": "BIArRU7l7Llh",
        "colab_type": "code",
        "colab": {}
      },
      "source": [
        "line.index('fox')"
      ],
      "execution_count": 0,
      "outputs": []
    },
    {
      "cell_type": "code",
      "metadata": {
        "id": "D58dXOqH7Llb",
        "colab_type": "code",
        "colab": {}
      },
      "source": [
        "line[16:21]"
      ],
      "execution_count": 0,
      "outputs": []
    },
    {
      "cell_type": "markdown",
      "metadata": {
        "id": "h85MmPIU7Llm",
        "colab_type": "text"
      },
      "source": [
        "The only difference between ``find()`` and ``index()`` is their behavior when the search string is not found; ``find()`` returns ``-1``, while ``index()`` raises a ``ValueError``:"
      ]
    },
    {
      "cell_type": "code",
      "metadata": {
        "id": "_1KC6QOU7Lln",
        "colab_type": "code",
        "colab": {}
      },
      "source": [
        "line.find('bear')"
      ],
      "execution_count": 0,
      "outputs": []
    },
    {
      "cell_type": "code",
      "metadata": {
        "id": "L-3u--pe7Lls",
        "colab_type": "code",
        "colab": {}
      },
      "source": [
        "line.index('bear')"
      ],
      "execution_count": 0,
      "outputs": []
    },
    {
      "cell_type": "code",
      "metadata": {
        "id": "broQs8Q27Ll-",
        "colab_type": "code",
        "colab": {}
      },
      "source": [
        "line.partition('fox')"
      ],
      "execution_count": 0,
      "outputs": []
    },
    {
      "cell_type": "markdown",
      "metadata": {
        "id": "52RL7jri7Ll_",
        "colab_type": "text"
      },
      "source": [
        "The ``rpartition()`` method is similar, but searches from the right of the string.\n",
        "\n",
        "The ``split()`` method is perhaps more useful; it finds *all* instances of the split-point and returns the substrings in between.\n",
        "The default is to split on any whitespace, returning a list of the individual words in a string:"
      ]
    },
    {
      "cell_type": "code",
      "metadata": {
        "id": "XgNMTET57LmA",
        "colab_type": "code",
        "colab": {}
      },
      "source": [
        "line_list = line.split()\n",
        "print(line_list)"
      ],
      "execution_count": 0,
      "outputs": []
    },
    {
      "cell_type": "code",
      "metadata": {
        "id": "UL5ebfOXzAN-",
        "colab_type": "code",
        "colab": {}
      },
      "source": [
        "print(line_list[1])"
      ],
      "execution_count": 0,
      "outputs": []
    },
    {
      "cell_type": "markdown",
      "metadata": {
        "id": "oG-08k1P7LmC",
        "colab_type": "text"
      },
      "source": [
        "A related method is ``splitlines()``, which splits on newline characters.\n",
        "Let's do this with a Haiku, popularly attributed to the 17th-century poet Matsuo Bashō:"
      ]
    },
    {
      "cell_type": "code",
      "metadata": {
        "id": "Xhoq3dov7LmD",
        "colab_type": "code",
        "colab": {}
      },
      "source": [
        "haiku = \"\"\"matsushima-ya\n",
        "aah matsushima-ya\n",
        "matsushima-ya\"\"\"\n",
        "\n",
        "haiku.splitlines()"
      ],
      "execution_count": 0,
      "outputs": []
    },
    {
      "cell_type": "markdown",
      "metadata": {
        "id": "nvAwkkOY7LmF",
        "colab_type": "text"
      },
      "source": [
        "Note that if you would like to undo a ``split()``, you can use the ``join()`` method, which returns a string built from a splitpoint and an iterable:"
      ]
    },
    {
      "cell_type": "code",
      "metadata": {
        "id": "x6dnl1We7LmG",
        "colab_type": "code",
        "colab": {}
      },
      "source": [
        "'--'.join(['1', '2', '3'])"
      ],
      "execution_count": 0,
      "outputs": []
    },
    {
      "cell_type": "markdown",
      "metadata": {
        "id": "1AV-VUtK7LmI",
        "colab_type": "text"
      },
      "source": [
        "A common pattern is to use the special character ``\"\\n\"`` (newline) to join together lines that have been previously split, and recover the input:"
      ]
    },
    {
      "cell_type": "code",
      "metadata": {
        "id": "iPGNvfi17LmI",
        "colab_type": "code",
        "colab": {}
      },
      "source": [
        "print(\"\\n\".join(['matsushima-ya', 'aah matsushima-ya', 'matsushima-ya']))"
      ],
      "execution_count": 0,
      "outputs": []
    },
    {
      "cell_type": "code",
      "metadata": {
        "id": "ATNMLZ1c7LmK",
        "colab_type": "code",
        "colab": {}
      },
      "source": [
        "pi = 3.14159\n",
        "str(pi)"
      ],
      "execution_count": 0,
      "outputs": []
    },
    {
      "cell_type": "code",
      "metadata": {
        "id": "IAXuKoSj7LmL",
        "colab_type": "code",
        "colab": {}
      },
      "source": [
        "print (\"The value of pi is \" + pi)"
      ],
      "execution_count": 0,
      "outputs": []
    },
    {
      "cell_type": "markdown",
      "metadata": {
        "id": "lxow04Rc7LmN",
        "colab_type": "text"
      },
      "source": [
        "Pi is a float number so it must be transform to sting."
      ]
    },
    {
      "cell_type": "code",
      "metadata": {
        "id": "n9XHEO0V7LmN",
        "colab_type": "code",
        "colab": {}
      },
      "source": [
        "print( \"The value of pi is \" + str(pi))"
      ],
      "execution_count": 0,
      "outputs": []
    },
    {
      "cell_type": "markdown",
      "metadata": {
        "id": "gLxjpyku7LmP",
        "colab_type": "text"
      },
      "source": [
        "A more flexible way to do this is to use *format strings*, which are strings with special markers (noted by curly braces) into which string-formatted values will be inserted.\n",
        "Here is a basic example:"
      ]
    },
    {
      "cell_type": "code",
      "metadata": {
        "id": "TnpyntFp7LmQ",
        "colab_type": "code",
        "colab": {}
      },
      "source": [
        "\"The value of pi is {}\".format(pi)"
      ],
      "execution_count": 0,
      "outputs": []
    },
    {
      "cell_type": "markdown",
      "metadata": {
        "id": "fwhJjvfvvC_P",
        "colab_type": "text"
      },
      "source": [
        "### Easy regex manipulation!"
      ]
    },
    {
      "cell_type": "code",
      "metadata": {
        "id": "FgEQCSC5vQki",
        "colab_type": "code",
        "colab": {}
      },
      "source": [
        "import re"
      ],
      "execution_count": 0,
      "outputs": []
    },
    {
      "cell_type": "code",
      "metadata": {
        "id": "7xYEVDt77Lmb",
        "colab_type": "code",
        "colab": {}
      },
      "source": [
        "line = 'the quick brown fox jumped over a lazy dog'"
      ],
      "execution_count": 0,
      "outputs": []
    },
    {
      "cell_type": "markdown",
      "metadata": {
        "id": "2ARgmkQP7Lmd",
        "colab_type": "text"
      },
      "source": [
        "With this, we can see that the ``regex.search()`` method operates a lot like ``str.index()`` or ``str.find()``:"
      ]
    },
    {
      "cell_type": "code",
      "metadata": {
        "id": "mAPbNKrk7Lmd",
        "colab_type": "code",
        "colab": {}
      },
      "source": [
        "line.index('fox')"
      ],
      "execution_count": 0,
      "outputs": []
    },
    {
      "cell_type": "code",
      "metadata": {
        "id": "PrQPx1bw7Lme",
        "colab_type": "code",
        "colab": {}
      },
      "source": [
        "regex = re.compile('fox')\n",
        "match = regex.search(line)\n",
        "match.start()"
      ],
      "execution_count": 0,
      "outputs": []
    },
    {
      "cell_type": "markdown",
      "metadata": {
        "id": "4NlxHgi57Lmg",
        "colab_type": "text"
      },
      "source": [
        "Similarly, the ``regex.sub()`` method operates much like ``str.replace()``:"
      ]
    },
    {
      "cell_type": "code",
      "metadata": {
        "id": "Gx3ieKh47Lmg",
        "colab_type": "code",
        "colab": {}
      },
      "source": [
        "line.replace('fox', 'BEAR')"
      ],
      "execution_count": 0,
      "outputs": []
    },
    {
      "cell_type": "code",
      "metadata": {
        "id": "Df1ZhHR97Lmi",
        "colab_type": "code",
        "colab": {}
      },
      "source": [
        "regex.sub('BEAR', line)"
      ],
      "execution_count": 0,
      "outputs": []
    },
    {
      "cell_type": "markdown",
      "metadata": {
        "id": "vAj0YV25vro6",
        "colab_type": "text"
      },
      "source": [
        "The following is a table of the repetition markers available for use in regular expressions:\n",
        "\n",
        "| Character | Description | Example |\n",
        "|-----------|-------------|---------|\n",
        "| ``?`` | Match zero or one repetitions of preceding  | ``\"ab?\"`` matches ``\"a\"`` or ``\"ab\"`` |\n",
        "| ``*`` | Match zero or more repetitions of preceding | ``\"ab*\"`` matches ``\"a\"``, ``\"ab\"``, ``\"abb\"``, ``\"abbb\"``... |\n",
        "| ``+`` | Match one or more repetitions of preceding  | ``\"ab+\"`` matches ``\"ab\"``, ``\"abb\"``, ``\"abbb\"``... but not ``\"a\"`` |\n",
        "| ``.`` | Any character | ``.*`` matches everything | \n",
        "| ``{n}`` | Match ``n`` repetitions of preeeding | ``\"ab{2}\"`` matches ``\"abb\"`` |\n",
        "| ``{m,n}`` | Match between ``m`` and ``n`` repetitions of preceding | ``\"ab{2,3}\"`` matches ``\"abb\"`` or ``\"abbb\"`` |"
      ]
    },
    {
      "cell_type": "code",
      "metadata": {
        "id": "aQrRIY4nu_lv",
        "colab_type": "code",
        "colab": {}
      },
      "source": [
        "bool(re.search(r'ab', \"Boabab\"))"
      ],
      "execution_count": 0,
      "outputs": []
    },
    {
      "cell_type": "code",
      "metadata": {
        "id": "Jl-dqlZ_vBjX",
        "colab_type": "code",
        "colab": {}
      },
      "source": [
        "bool(re.search(r'.*ma.*', \"Ala ma kota\"))"
      ],
      "execution_count": 0,
      "outputs": []
    },
    {
      "cell_type": "code",
      "metadata": {
        "id": "MzfXrZA1wGvK",
        "colab_type": "code",
        "colab": {}
      },
      "source": [
        "bool(re.search(r'.*(psa|kota).*', \"Ala ma kota\"))"
      ],
      "execution_count": 0,
      "outputs": []
    },
    {
      "cell_type": "code",
      "metadata": {
        "id": "QNwLgTchwXfU",
        "colab_type": "code",
        "colab": {}
      },
      "source": [
        "bool(re.search(r'.*(psa|kota).*', \"Ala ma psa\"))"
      ],
      "execution_count": 0,
      "outputs": []
    },
    {
      "cell_type": "code",
      "metadata": {
        "id": "rEfi1FLzwcHa",
        "colab_type": "code",
        "colab": {}
      },
      "source": [
        "bool(re.search(r'.*(psa|kota).*', \"Ala ma chomika\"))"
      ],
      "execution_count": 0,
      "outputs": []
    },
    {
      "cell_type": "code",
      "metadata": {
        "id": "FBH8XwJcwf_k",
        "colab_type": "code",
        "colab": {}
      },
      "source": [
        "zdanie = \"Ala ma kota.\"\n",
        "wzor = r'.*' #pasuje do każdego zdania\n",
        "zamiennik = r\"Ala ma psa.\""
      ],
      "execution_count": 0,
      "outputs": []
    },
    {
      "cell_type": "code",
      "metadata": {
        "id": "4_dDCJ1iwy3s",
        "colab_type": "code",
        "colab": {}
      },
      "source": [
        "re.sub(wzor, zamiennik, zdanie)"
      ],
      "execution_count": 0,
      "outputs": []
    },
    {
      "cell_type": "code",
      "metadata": {
        "id": "Ouy86Z0txPvr",
        "colab_type": "code",
        "colab": {}
      },
      "source": [
        "wzor = r'(.*)kota.'\n",
        "zamiennik = r\"\\1 psa.\""
      ],
      "execution_count": 0,
      "outputs": []
    },
    {
      "cell_type": "code",
      "metadata": {
        "id": "nKtdRi9bxhww",
        "colab_type": "code",
        "colab": {}
      },
      "source": [
        "re.sub(wzor, zamiennik, zdanie)"
      ],
      "execution_count": 0,
      "outputs": []
    },
    {
      "cell_type": "code",
      "metadata": {
        "id": "deshsKUaxipk",
        "colab_type": "code",
        "colab": {}
      },
      "source": [
        "wzor = r'(.*)ma(.*)'\n",
        "zamiennik = r\"\\1 posiada \\2\""
      ],
      "execution_count": 0,
      "outputs": []
    },
    {
      "cell_type": "code",
      "metadata": {
        "id": "bSc0LkQDx_z6",
        "colab_type": "code",
        "colab": {}
      },
      "source": [
        "re.sub(wzor, zamiennik, zdanie)"
      ],
      "execution_count": 0,
      "outputs": []
    }
  ]
}